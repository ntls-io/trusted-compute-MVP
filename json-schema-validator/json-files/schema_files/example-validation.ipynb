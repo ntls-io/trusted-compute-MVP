{
 "cells": [
  {
   "cell_type": "markdown",
   "id": "7009a50c",
   "metadata": {},
   "source": [
    "# JSON Schema Validation\n",
    "\n",
    "Play with schema validation using the json-schema language. This notebook uses the jsonschema library, https://github.com/python-jsonschema/jsonschema. "
   ]
  },
  {
   "cell_type": "code",
   "execution_count": 2,
   "id": "af47689b",
   "metadata": {},
   "outputs": [],
   "source": [
    "import sys"
   ]
  },
  {
   "cell_type": "code",
   "execution_count": 6,
   "id": "dfeccff0",
   "metadata": {},
   "outputs": [],
   "source": [
    "import json"
   ]
  },
  {
   "cell_type": "code",
   "execution_count": 3,
   "id": "53749d68",
   "metadata": {},
   "outputs": [],
   "source": [
    "import pandas as pd"
   ]
  },
  {
   "cell_type": "code",
   "execution_count": 14,
   "id": "7b1daffd",
   "metadata": {},
   "outputs": [],
   "source": [
    "import jsonschema"
   ]
  },
  {
   "cell_type": "code",
   "execution_count": 16,
   "id": "e76ef7df",
   "metadata": {},
   "outputs": [],
   "source": [
    "from jsonschema import validate"
   ]
  },
  {
   "cell_type": "code",
   "execution_count": 64,
   "id": "32841f60",
   "metadata": {},
   "outputs": [],
   "source": [
    "data=pd.read_csv('mock_genotype.tsv',sep='\\t')"
   ]
  },
  {
   "cell_type": "code",
   "execution_count": 41,
   "id": "d8093c88",
   "metadata": {},
   "outputs": [],
   "source": [
    "schema = {\n",
    "    \"type\": \"object\",\n",
    "    \"properties\": {\n",
    "        \"FID\": {\"type\": \"number\"},\n",
    "        \"IID\": {\"type\": \"string\"},\n",
    "        \"Miss_Pheno\": {\"type\": \"number\"},\n",
    "        \"N_Miss\": {\"type\": \"number\"},\n",
    "        \"N_Geno\": {\"type\": \"number\"},\n",
    "        \"MAF\": {\"type\": \"string\"},\n",
    "    },\n",
    "    \"required\": [\"FID\", \"TID\", \"MAF\"]\n",
    "}"
   ]
  },
  {
   "cell_type": "code",
   "execution_count": 31,
   "id": "6f3beb1e",
   "metadata": {},
   "outputs": [],
   "source": [
    "jsonschema.Draft7Validator.check_schema(schema)"
   ]
  },
  {
   "cell_type": "code",
   "execution_count": 60,
   "id": "ffa78f94",
   "metadata": {},
   "outputs": [
    {
     "data": {
      "text/html": [
       "<div>\n",
       "<style scoped>\n",
       "    .dataframe tbody tr th:only-of-type {\n",
       "        vertical-align: middle;\n",
       "    }\n",
       "\n",
       "    .dataframe tbody tr th {\n",
       "        vertical-align: top;\n",
       "    }\n",
       "\n",
       "    .dataframe thead th {\n",
       "        text-align: right;\n",
       "    }\n",
       "</style>\n",
       "<table border=\"1\" class=\"dataframe\">\n",
       "  <thead>\n",
       "    <tr style=\"text-align: right;\">\n",
       "      <th></th>\n",
       "      <th>FID (string)</th>\n",
       "      <th>IID (string)</th>\n",
       "      <th>Miss_Pheno (boolean)</th>\n",
       "      <th>N_Miss (int)</th>\n",
       "      <th>N_GENO (int)</th>\n",
       "      <th>MAF (float)</th>\n",
       "    </tr>\n",
       "  </thead>\n",
       "  <tbody>\n",
       "    <tr>\n",
       "      <th>0</th>\n",
       "      <td>P554</td>\n",
       "      <td>P554</td>\n",
       "      <td>N</td>\n",
       "      <td>4096</td>\n",
       "      <td>97722</td>\n",
       "      <td>0.02191</td>\n",
       "    </tr>\n",
       "    <tr>\n",
       "      <th>1</th>\n",
       "      <td>P557</td>\n",
       "      <td>P557</td>\n",
       "      <td>N</td>\n",
       "      <td>4011</td>\n",
       "      <td>97722</td>\n",
       "      <td>0.02105</td>\n",
       "    </tr>\n",
       "    <tr>\n",
       "      <th>2</th>\n",
       "      <td>P558</td>\n",
       "      <td>P558</td>\n",
       "      <td>N</td>\n",
       "      <td>4327</td>\n",
       "      <td>97722</td>\n",
       "      <td>0.02428</td>\n",
       "    </tr>\n",
       "    <tr>\n",
       "      <th>3</th>\n",
       "      <td>P562</td>\n",
       "      <td>P562</td>\n",
       "      <td>N</td>\n",
       "      <td>4099</td>\n",
       "      <td>97722</td>\n",
       "      <td>0.02195</td>\n",
       "    </tr>\n",
       "    <tr>\n",
       "      <th>4</th>\n",
       "      <td>P564</td>\n",
       "      <td>P564</td>\n",
       "      <td>N</td>\n",
       "      <td>4100</td>\n",
       "      <td>97722</td>\n",
       "      <td>0.02391</td>\n",
       "    </tr>\n",
       "    <tr>\n",
       "      <th>5</th>\n",
       "      <td>P567</td>\n",
       "      <td>P567</td>\n",
       "      <td>N</td>\n",
       "      <td>4013</td>\n",
       "      <td>97722</td>\n",
       "      <td>0.02705</td>\n",
       "    </tr>\n",
       "    <tr>\n",
       "      <th>6</th>\n",
       "      <td>P568</td>\n",
       "      <td>P568</td>\n",
       "      <td>Y</td>\n",
       "      <td>4227</td>\n",
       "      <td>97722</td>\n",
       "      <td>0.02478</td>\n",
       "    </tr>\n",
       "    <tr>\n",
       "      <th>7</th>\n",
       "      <td>P572</td>\n",
       "      <td>P572</td>\n",
       "      <td>N</td>\n",
       "      <td>4199</td>\n",
       "      <td>97722</td>\n",
       "      <td>0.02096</td>\n",
       "    </tr>\n",
       "    <tr>\n",
       "      <th>8</th>\n",
       "      <td>P574</td>\n",
       "      <td>P574</td>\n",
       "      <td>N</td>\n",
       "      <td>4034</td>\n",
       "      <td>97722</td>\n",
       "      <td>0.02783</td>\n",
       "    </tr>\n",
       "    <tr>\n",
       "      <th>9</th>\n",
       "      <td>P577</td>\n",
       "      <td>P577</td>\n",
       "      <td>N</td>\n",
       "      <td>4245</td>\n",
       "      <td>97722</td>\n",
       "      <td>0.02209</td>\n",
       "    </tr>\n",
       "    <tr>\n",
       "      <th>10</th>\n",
       "      <td>P578</td>\n",
       "      <td>P578</td>\n",
       "      <td>N</td>\n",
       "      <td>4127</td>\n",
       "      <td>97722</td>\n",
       "      <td>0.02109</td>\n",
       "    </tr>\n",
       "    <tr>\n",
       "      <th>11</th>\n",
       "      <td>P582</td>\n",
       "      <td>P582</td>\n",
       "      <td>N</td>\n",
       "      <td>4091</td>\n",
       "      <td>97722</td>\n",
       "      <td>0.02164</td>\n",
       "    </tr>\n",
       "    <tr>\n",
       "      <th>12</th>\n",
       "      <td>P584</td>\n",
       "      <td>P584</td>\n",
       "      <td>Y</td>\n",
       "      <td>4024</td>\n",
       "      <td>97722</td>\n",
       "      <td>0.02309</td>\n",
       "    </tr>\n",
       "    <tr>\n",
       "      <th>13</th>\n",
       "      <td>P587</td>\n",
       "      <td>P587</td>\n",
       "      <td>Y</td>\n",
       "      <td>4123</td>\n",
       "      <td>97722</td>\n",
       "      <td>0.02037</td>\n",
       "    </tr>\n",
       "    <tr>\n",
       "      <th>14</th>\n",
       "      <td>P588</td>\n",
       "      <td>P588</td>\n",
       "      <td>N</td>\n",
       "      <td>4330</td>\n",
       "      <td>97722</td>\n",
       "      <td>0.02023</td>\n",
       "    </tr>\n",
       "    <tr>\n",
       "      <th>15</th>\n",
       "      <td>P592</td>\n",
       "      <td>P592</td>\n",
       "      <td>N</td>\n",
       "      <td>4013</td>\n",
       "      <td>97722</td>\n",
       "      <td>0.02283</td>\n",
       "    </tr>\n",
       "    <tr>\n",
       "      <th>16</th>\n",
       "      <td>P594</td>\n",
       "      <td>P594</td>\n",
       "      <td>N</td>\n",
       "      <td>4056</td>\n",
       "      <td>97722</td>\n",
       "      <td>0.02923</td>\n",
       "    </tr>\n",
       "    <tr>\n",
       "      <th>17</th>\n",
       "      <td>P597</td>\n",
       "      <td>P597</td>\n",
       "      <td>N</td>\n",
       "      <td>4163</td>\n",
       "      <td>97722</td>\n",
       "      <td>0.02501</td>\n",
       "    </tr>\n",
       "    <tr>\n",
       "      <th>18</th>\n",
       "      <td>P598</td>\n",
       "      <td>P598</td>\n",
       "      <td>N</td>\n",
       "      <td>4356</td>\n",
       "      <td>97722</td>\n",
       "      <td>0.02840</td>\n",
       "    </tr>\n",
       "    <tr>\n",
       "      <th>19</th>\n",
       "      <td>P602</td>\n",
       "      <td>P602</td>\n",
       "      <td>N</td>\n",
       "      <td>4037</td>\n",
       "      <td>97722</td>\n",
       "      <td>0.02152</td>\n",
       "    </tr>\n",
       "  </tbody>\n",
       "</table>\n",
       "</div>"
      ],
      "text/plain": [
       "   FID (string) IID (string) Miss_Pheno (boolean)  N_Miss (int)  N_GENO (int)  \\\n",
       "0          P554         P554                    N          4096         97722   \n",
       "1          P557         P557                    N          4011         97722   \n",
       "2          P558         P558                    N          4327         97722   \n",
       "3          P562         P562                    N          4099         97722   \n",
       "4          P564         P564                    N          4100         97722   \n",
       "5          P567         P567                    N          4013         97722   \n",
       "6          P568         P568                    Y          4227         97722   \n",
       "7          P572         P572                    N          4199         97722   \n",
       "8          P574         P574                    N          4034         97722   \n",
       "9          P577         P577                    N          4245         97722   \n",
       "10         P578         P578                    N          4127         97722   \n",
       "11         P582         P582                    N          4091         97722   \n",
       "12         P584         P584                    Y          4024         97722   \n",
       "13         P587         P587                    Y          4123         97722   \n",
       "14         P588         P588                    N          4330         97722   \n",
       "15         P592         P592                    N          4013         97722   \n",
       "16         P594         P594                    N          4056         97722   \n",
       "17         P597         P597                    N          4163         97722   \n",
       "18         P598         P598                    N          4356         97722   \n",
       "19         P602         P602                    N          4037         97722   \n",
       "\n",
       "    MAF (float)  \n",
       "0       0.02191  \n",
       "1       0.02105  \n",
       "2       0.02428  \n",
       "3       0.02195  \n",
       "4       0.02391  \n",
       "5       0.02705  \n",
       "6       0.02478  \n",
       "7       0.02096  \n",
       "8       0.02783  \n",
       "9       0.02209  \n",
       "10      0.02109  \n",
       "11      0.02164  \n",
       "12      0.02309  \n",
       "13      0.02037  \n",
       "14      0.02023  \n",
       "15      0.02283  \n",
       "16      0.02923  \n",
       "17      0.02501  \n",
       "18      0.02840  \n",
       "19      0.02152  "
      ]
     },
     "execution_count": 60,
     "metadata": {},
     "output_type": "execute_result"
    }
   ],
   "source": [
    "data"
   ]
  },
  {
   "cell_type": "code",
   "execution_count": 65,
   "id": "4f051a82",
   "metadata": {},
   "outputs": [
    {
     "data": {
      "text/plain": [
       "'[{\"index\":0,\"FID\":\"P554\",\"IID\":\"P554\",\"Miss_Pheno\":\"N\",\"N_Miss\":4096,\"N_Geno\":97722,\"MAF\":0.02191},{\"index\":1,\"FID\":\"P557\",\"IID\":\"P557\",\"Miss_Pheno\":\"N\",\"N_Miss\":4011,\"N_Geno\":97722,\"MAF\":0.02105},{\"index\":2,\"FID\":\"P558\",\"IID\":\"P558\",\"Miss_Pheno\":\"N\",\"N_Miss\":4327,\"N_Geno\":97722,\"MAF\":0.02428},{\"index\":3,\"FID\":\"P562\",\"IID\":\"P562\",\"Miss_Pheno\":\"N\",\"N_Miss\":4099,\"N_Geno\":97722,\"MAF\":0.02195},{\"index\":4,\"FID\":\"P564\",\"IID\":\"P564\",\"Miss_Pheno\":\"N\",\"N_Miss\":4100,\"N_Geno\":97722,\"MAF\":0.02391},{\"index\":5,\"FID\":\"P567\",\"IID\":\"P567\",\"Miss_Pheno\":\"N\",\"N_Miss\":4013,\"N_Geno\":97722,\"MAF\":0.02705},{\"index\":6,\"FID\":\"P568\",\"IID\":\"P568\",\"Miss_Pheno\":\"Y\",\"N_Miss\":4227,\"N_Geno\":97722,\"MAF\":0.02478},{\"index\":7,\"FID\":\"P572\",\"IID\":\"P572\",\"Miss_Pheno\":\"N\",\"N_Miss\":4199,\"N_Geno\":97722,\"MAF\":0.02096},{\"index\":8,\"FID\":\"P574\",\"IID\":\"P574\",\"Miss_Pheno\":\"N\",\"N_Miss\":4034,\"N_Geno\":97722,\"MAF\":0.02783},{\"index\":9,\"FID\":\"P577\",\"IID\":\"P577\",\"Miss_Pheno\":\"N\",\"N_Miss\":4245,\"N_Geno\":97722,\"MAF\":0.02209},{\"index\":10,\"FID\":\"P578\",\"IID\":\"P578\",\"Miss_Pheno\":\"N\",\"N_Miss\":4127,\"N_Geno\":97722,\"MAF\":0.02109},{\"index\":11,\"FID\":\"P582\",\"IID\":\"P582\",\"Miss_Pheno\":\"N\",\"N_Miss\":4091,\"N_Geno\":97722,\"MAF\":0.02164},{\"index\":12,\"FID\":\"P584\",\"IID\":\"P584\",\"Miss_Pheno\":\"Y\",\"N_Miss\":4024,\"N_Geno\":97722,\"MAF\":0.02309},{\"index\":13,\"FID\":\"P587\",\"IID\":\"P587\",\"Miss_Pheno\":\"Y\",\"N_Miss\":4123,\"N_Geno\":97722,\"MAF\":0.02037},{\"index\":14,\"FID\":\"P588\",\"IID\":\"P588\",\"Miss_Pheno\":\"N\",\"N_Miss\":4330,\"N_Geno\":97722,\"MAF\":0.02023},{\"index\":15,\"FID\":\"P592\",\"IID\":\"P592\",\"Miss_Pheno\":\"N\",\"N_Miss\":4013,\"N_Geno\":97722,\"MAF\":0.02283},{\"index\":16,\"FID\":\"P594\",\"IID\":\"P594\",\"Miss_Pheno\":\"N\",\"N_Miss\":4056,\"N_Geno\":97722,\"MAF\":0.02923},{\"index\":17,\"FID\":\"P597\",\"IID\":\"P597\",\"Miss_Pheno\":\"N\",\"N_Miss\":4163,\"N_Geno\":97722,\"MAF\":0.02501},{\"index\":18,\"FID\":\"P598\",\"IID\":\"P598\",\"Miss_Pheno\":\"N\",\"N_Miss\":4356,\"N_Geno\":97722,\"MAF\":0.0284},{\"index\":19,\"FID\":\"P602\",\"IID\":\"P602\",\"Miss_Pheno\":\"N\",\"N_Miss\":4037,\"N_Geno\":97722,\"MAF\":0.02152}]'"
      ]
     },
     "execution_count": 65,
     "metadata": {},
     "output_type": "execute_result"
    }
   ],
   "source": [
    "data.reset_index().to_json(orient='records')"
   ]
  },
  {
   "cell_type": "code",
   "execution_count": 66,
   "id": "19216468",
   "metadata": {},
   "outputs": [],
   "source": [
    "import json"
   ]
  },
  {
   "cell_type": "code",
   "execution_count": 70,
   "id": "f13934e6",
   "metadata": {},
   "outputs": [],
   "source": [
    "f = open('alumni_salary.json')\n",
    "jsondata = json.load(f)\n",
    "f.close()"
   ]
  },
  {
   "cell_type": "code",
   "execution_count": 77,
   "id": "e76f2189",
   "metadata": {},
   "outputs": [],
   "source": [
    "schema = {\n",
    "    \"type\": \"object\",\n",
    "    \"properties\": {\n",
    "        \"name\": {\"type\": \"string\"},\n",
    "        \"gpa\": {\"type\": \"number\"},\n",
    "        \"age\": {\"type\": \"number\"},\n",
    "        \"salary\": {\"type\": \"number\"},\n",
    "    },\n",
    "}"
   ]
  },
  {
   "cell_type": "code",
   "execution_count": 78,
   "id": "f6544710",
   "metadata": {},
   "outputs": [
    {
     "ename": "ValidationError",
     "evalue": "[{'name': 'John Smith', 'gpa': 3.5, 'age': 25, 'salary': 50000}, {'name': 'Jane Doe', 'gpa': 3.2, 'age': 22, 'salary': 45000}, {'name': 'Bob Johnson', 'gpa': 3.8, 'age': 30, 'salary': 55000}, {'name': 'Sara Lee', 'gpa': 3.0, 'age': 27, 'salary': 40000}, {'name': 'Tom Brown', 'gpa': 3.7, 'age': 32, 'salary': 60000}, {'name': 'Emily Davis', 'gpa': 3.4, 'age': 23, 'salary': 42000}, {'name': 'Michael Miller', 'gpa': 3.9, 'age': 28, 'salary': 65000}, {'name': 'Jessica Wilson', 'gpa': 3.1, 'age': 24, 'salary': 46000}, {'name': 'Matthew Anderson', 'gpa': 3.6, 'age': 29, 'salary': 58000}, {'name': 'Nicholas Thompson', 'gpa': 3.3, 'age': 26, 'salary': 49000}, {'name': 'Ashley Moore', 'gpa': 3.8, 'age': 35, 'salary': 62000}, {'name': 'David Taylor', 'gpa': 3.0, 'age': 31, 'salary': 52000}, {'name': 'Joseph Hernandez', 'gpa': 3.7, 'age': 33, 'salary': 57000}, {'name': 'Brian Martinez', 'gpa': 3.4, 'age': 30, 'salary': 50000}, {'name': 'Brandon Lee', 'gpa': 3.9, 'age': 25, 'salary': 60000}, {'name': 'Adam Clark', 'gpa': 3.1, 'age': 22, 'salary': 45000}, {'name': 'Natalie Rodriguez', 'gpa': 3.6, 'age': 27, 'salary': 48000}, {'name': 'Justin Green', 'gpa': 3.3, 'age': 32, 'salary': 55000}] is not of type 'object'\n\nFailed validating 'type' in schema:\n    {'properties': {'age': {'type': 'number'},\n                    'gpa': {'type': 'number'},\n                    'name': {'type': 'string'},\n                    'salary': {'type': 'number'}},\n     'type': 'object'}\n\nOn instance:\n    [{'age': 25, 'gpa': 3.5, 'name': 'John Smith', 'salary': 50000},\n     {'age': 22, 'gpa': 3.2, 'name': 'Jane Doe', 'salary': 45000},\n     {'age': 30, 'gpa': 3.8, 'name': 'Bob Johnson', 'salary': 55000},\n     {'age': 27, 'gpa': 3.0, 'name': 'Sara Lee', 'salary': 40000},\n     {'age': 32, 'gpa': 3.7, 'name': 'Tom Brown', 'salary': 60000},\n     {'age': 23, 'gpa': 3.4, 'name': 'Emily Davis', 'salary': 42000},\n     {'age': 28, 'gpa': 3.9, 'name': 'Michael Miller', 'salary': 65000},\n     {'age': 24, 'gpa': 3.1, 'name': 'Jessica Wilson', 'salary': 46000},\n     {'age': 29, 'gpa': 3.6, 'name': 'Matthew Anderson', 'salary': 58000},\n     {'age': 26, 'gpa': 3.3, 'name': 'Nicholas Thompson', 'salary': 49000},\n     {'age': 35, 'gpa': 3.8, 'name': 'Ashley Moore', 'salary': 62000},\n     {'age': 31, 'gpa': 3.0, 'name': 'David Taylor', 'salary': 52000},\n     {'age': 33, 'gpa': 3.7, 'name': 'Joseph Hernandez', 'salary': 57000},\n     {'age': 30, 'gpa': 3.4, 'name': 'Brian Martinez', 'salary': 50000},\n     {'age': 25, 'gpa': 3.9, 'name': 'Brandon Lee', 'salary': 60000},\n     {'age': 22, 'gpa': 3.1, 'name': 'Adam Clark', 'salary': 45000},\n     {'age': 27, 'gpa': 3.6, 'name': 'Natalie Rodriguez', 'salary': 48000},\n     {'age': 32, 'gpa': 3.3, 'name': 'Justin Green', 'salary': 55000}]",
     "output_type": "error",
     "traceback": [
      "\u001b[0;31m---------------------------------------------------------------------------\u001b[0m",
      "\u001b[0;31mValidationError\u001b[0m                           Traceback (most recent call last)",
      "Cell \u001b[0;32mIn[78], line 1\u001b[0m\n\u001b[0;32m----> 1\u001b[0m \u001b[43mvalidate\u001b[49m\u001b[43m(\u001b[49m\u001b[43mjsondata\u001b[49m\u001b[43m,\u001b[49m\u001b[43m \u001b[49m\u001b[43mschema\u001b[49m\u001b[38;5;241;43m=\u001b[39;49m\u001b[43mschema\u001b[49m\u001b[43m)\u001b[49m\n",
      "File \u001b[0;32m/opt/homebrew/lib/python3.10/site-packages/jsonschema/validators.py:1121\u001b[0m, in \u001b[0;36mvalidate\u001b[0;34m(instance, schema, cls, *args, **kwargs)\u001b[0m\n\u001b[1;32m   1119\u001b[0m error \u001b[38;5;241m=\u001b[39m exceptions\u001b[38;5;241m.\u001b[39mbest_match(validator\u001b[38;5;241m.\u001b[39miter_errors(instance))\n\u001b[1;32m   1120\u001b[0m \u001b[38;5;28;01mif\u001b[39;00m error \u001b[38;5;129;01mis\u001b[39;00m \u001b[38;5;129;01mnot\u001b[39;00m \u001b[38;5;28;01mNone\u001b[39;00m:\n\u001b[0;32m-> 1121\u001b[0m     \u001b[38;5;28;01mraise\u001b[39;00m error\n",
      "\u001b[0;31mValidationError\u001b[0m: [{'name': 'John Smith', 'gpa': 3.5, 'age': 25, 'salary': 50000}, {'name': 'Jane Doe', 'gpa': 3.2, 'age': 22, 'salary': 45000}, {'name': 'Bob Johnson', 'gpa': 3.8, 'age': 30, 'salary': 55000}, {'name': 'Sara Lee', 'gpa': 3.0, 'age': 27, 'salary': 40000}, {'name': 'Tom Brown', 'gpa': 3.7, 'age': 32, 'salary': 60000}, {'name': 'Emily Davis', 'gpa': 3.4, 'age': 23, 'salary': 42000}, {'name': 'Michael Miller', 'gpa': 3.9, 'age': 28, 'salary': 65000}, {'name': 'Jessica Wilson', 'gpa': 3.1, 'age': 24, 'salary': 46000}, {'name': 'Matthew Anderson', 'gpa': 3.6, 'age': 29, 'salary': 58000}, {'name': 'Nicholas Thompson', 'gpa': 3.3, 'age': 26, 'salary': 49000}, {'name': 'Ashley Moore', 'gpa': 3.8, 'age': 35, 'salary': 62000}, {'name': 'David Taylor', 'gpa': 3.0, 'age': 31, 'salary': 52000}, {'name': 'Joseph Hernandez', 'gpa': 3.7, 'age': 33, 'salary': 57000}, {'name': 'Brian Martinez', 'gpa': 3.4, 'age': 30, 'salary': 50000}, {'name': 'Brandon Lee', 'gpa': 3.9, 'age': 25, 'salary': 60000}, {'name': 'Adam Clark', 'gpa': 3.1, 'age': 22, 'salary': 45000}, {'name': 'Natalie Rodriguez', 'gpa': 3.6, 'age': 27, 'salary': 48000}, {'name': 'Justin Green', 'gpa': 3.3, 'age': 32, 'salary': 55000}] is not of type 'object'\n\nFailed validating 'type' in schema:\n    {'properties': {'age': {'type': 'number'},\n                    'gpa': {'type': 'number'},\n                    'name': {'type': 'string'},\n                    'salary': {'type': 'number'}},\n     'type': 'object'}\n\nOn instance:\n    [{'age': 25, 'gpa': 3.5, 'name': 'John Smith', 'salary': 50000},\n     {'age': 22, 'gpa': 3.2, 'name': 'Jane Doe', 'salary': 45000},\n     {'age': 30, 'gpa': 3.8, 'name': 'Bob Johnson', 'salary': 55000},\n     {'age': 27, 'gpa': 3.0, 'name': 'Sara Lee', 'salary': 40000},\n     {'age': 32, 'gpa': 3.7, 'name': 'Tom Brown', 'salary': 60000},\n     {'age': 23, 'gpa': 3.4, 'name': 'Emily Davis', 'salary': 42000},\n     {'age': 28, 'gpa': 3.9, 'name': 'Michael Miller', 'salary': 65000},\n     {'age': 24, 'gpa': 3.1, 'name': 'Jessica Wilson', 'salary': 46000},\n     {'age': 29, 'gpa': 3.6, 'name': 'Matthew Anderson', 'salary': 58000},\n     {'age': 26, 'gpa': 3.3, 'name': 'Nicholas Thompson', 'salary': 49000},\n     {'age': 35, 'gpa': 3.8, 'name': 'Ashley Moore', 'salary': 62000},\n     {'age': 31, 'gpa': 3.0, 'name': 'David Taylor', 'salary': 52000},\n     {'age': 33, 'gpa': 3.7, 'name': 'Joseph Hernandez', 'salary': 57000},\n     {'age': 30, 'gpa': 3.4, 'name': 'Brian Martinez', 'salary': 50000},\n     {'age': 25, 'gpa': 3.9, 'name': 'Brandon Lee', 'salary': 60000},\n     {'age': 22, 'gpa': 3.1, 'name': 'Adam Clark', 'salary': 45000},\n     {'age': 27, 'gpa': 3.6, 'name': 'Natalie Rodriguez', 'salary': 48000},\n     {'age': 32, 'gpa': 3.3, 'name': 'Justin Green', 'salary': 55000}]"
     ]
    }
   ],
   "source": [
    "validate(jsondata, schema=schema)"
   ]
  },
  {
   "cell_type": "code",
   "execution_count": null,
   "id": "5dc8972f",
   "metadata": {},
   "outputs": [],
   "source": []
  },
  {
   "cell_type": "code",
   "execution_count": 23,
   "id": "eedebe10",
   "metadata": {},
   "outputs": [],
   "source": [
    "validate(\"127.0.0.1\", {\"format\" : \"ipv4\"}, format_checker=jsonschema.Draft202012Validator.FORMAT_CHECKER)"
   ]
  },
  {
   "cell_type": "code",
   "execution_count": null,
   "id": "d56d0083",
   "metadata": {},
   "outputs": [],
   "source": []
  }
 ],
 "metadata": {
  "kernelspec": {
   "display_name": "Python 3",
   "language": "python",
   "name": "python3"
  },
  "language_info": {
   "codemirror_mode": {
    "name": "ipython",
    "version": 3
   },
   "file_extension": ".py",
   "mimetype": "text/x-python",
   "name": "python",
   "nbconvert_exporter": "python",
   "pygments_lexer": "ipython3",
   "version": "3.10.9"
  }
 },
 "nbformat": 4,
 "nbformat_minor": 5
}
